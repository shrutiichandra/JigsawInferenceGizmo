{
 "cells": [
  {
   "cell_type": "markdown",
   "metadata": {},
   "source": [
    "## Sample puzzle\n",
    "picture_ratio = 74 / 48 <br/>\n",
    "total pieces = 108 <br/>\n",
    "grid ratio = 12 / 9 <br/>\n",
    "piece ratio = grid ratio / picture ratio"
   ]
  },
  {
   "cell_type": "code",
   "execution_count": 1,
   "metadata": {},
   "outputs": [],
   "source": [
    "def findRatioMoreThan1(a, b):\n",
    "    if a > b:\n",
    "        return a/b\n",
    "    return b/a"
   ]
  },
  {
   "cell_type": "code",
   "execution_count": 2,
   "metadata": {},
   "outputs": [],
   "source": [
    "import math"
   ]
  },
  {
   "cell_type": "code",
   "execution_count": 3,
   "metadata": {},
   "outputs": [],
   "source": [
    "def findDivisors(n) :\n",
    "    i = 1\n",
    "    listOfPair = []\n",
    "    while i <= math.sqrt(n):\n",
    "        if (n % i == 0) :\n",
    "            pair = (i , int(n/i))\n",
    "            listOfPair.append(pair)\n",
    "        i = i + 1\n",
    "    return listOfPair"
   ]
  },
  {
   "cell_type": "code",
   "execution_count": 4,
   "metadata": {},
   "outputs": [],
   "source": [
    "def findBestFactor(factorsList, penalty):\n",
    "    best = 100\n",
    "    for i in factorsList:\n",
    "        # grid ratio basically\n",
    "        currRatio = findRatioMoreThan1(i[0], i[1])\n",
    "        if penalty < best:\n",
    "            bestRatio = currRatio\n",
    "            bestPair = i\n",
    "    return bestRatio, bestPair"
   ]
  },
  {
   "cell_type": "code",
   "execution_count": 5,
   "metadata": {},
   "outputs": [],
   "source": [
    "def findError(expected, current):\n",
    "    return (abs(current - expected) / expected)"
   ]
  },
  {
   "cell_type": "code",
   "execution_count": 31,
   "metadata": {},
   "outputs": [],
   "source": [
    "def solve(num, totalPieces, pictureRatio):\n",
    "    factors = findDivisors(num)\n",
    "    currentGridRatio, pair = findBestFactor(factors, pictureRatio)\n",
    "    currentPieceRatio = findRatioMoreThan1(currentGridRatio, pictureRatio)\n",
    "    err = findError(pictureRatio, currentGridRatio)\n",
    "\n",
    "    if err < 0.05 or num == totalPieces:\n",
    "        print(f\"{num} pieces in [{pair[0]}, {pair[1]}] (grid ratio of {round(currentGridRatio, 2)}) needs piece ratio {round(currentPieceRatio,2)} error: {round(err,2)}\")\n",
    "        return True\n",
    "    return False"
   ]
  },
  {
   "cell_type": "code",
   "execution_count": 32,
   "metadata": {},
   "outputs": [],
   "source": [
    "def jig_v0(l, w, totalPieces):\n",
    "    pictureRatio = findRatioMoreThan1(l, w)\n",
    "    print(\"{} by {} is picture ratio {}\".format(l, w, pictureRatio))\n",
    "    print(\"\\nLooking for >={} solutions\".format(totalPieces))\n",
    "    \n",
    "    # percentage we'll check in either direction\n",
    "    threshold = 0.1\n",
    "    \n",
    "    max_cap = int((1+threshold)*totalPieces)\n",
    "    min_cap = int((1-threshold)*totalPieces)\n",
    "\n",
    "    up_range = [i for i in range(totalPieces, max_cap+1)]\n",
    "    down_range = [i for i in range(min_cap, totalPieces)]  \n",
    "    # do not want n included again\n",
    "    \n",
    "    penalty = 1.005\n",
    "    \n",
    "    found = False\n",
    "    for i in up_range:\n",
    "        yes = solve(i, totalPieces, pictureRatio)\n",
    "        if yes:\n",
    "            found = True\n",
    "    \n",
    "    if not found:\n",
    "        print(\"Oops! nothing to say\")\n",
    "            \n",
    "    print(\"\\n\\nNow the lower side\")\n",
    "    found = False\n",
    "    for i in down_range:\n",
    "        yes = solve(i, totalPieces, pictureRatio)\n",
    "        if yes:\n",
    "            found = True\n",
    "    if not found:\n",
    "        print(\"Oops! nothing to say\")"
   ]
  },
  {
   "cell_type": "code",
   "execution_count": 33,
   "metadata": {
    "scrolled": false
   },
   "outputs": [
    {
     "name": "stdout",
     "output_type": "stream",
     "text": [
      "33 by 22.8 is picture ratio 1.4473684210526316\n",
      "\n",
      "Looking for >=1000 solutions\n",
      "1000 pieces in [25, 40] (grid ratio of 1.6) needs piece ratio 1.11 error: 0.11\n",
      "1014 pieces in [26, 39] (grid ratio of 1.5) needs piece ratio 1.04 error: 0.04\n",
      "1026 pieces in [27, 38] (grid ratio of 1.41) needs piece ratio 1.03 error: 0.03\n",
      "1053 pieces in [27, 39] (grid ratio of 1.44) needs piece ratio 1.0 error: 0.0\n",
      "1092 pieces in [28, 39] (grid ratio of 1.39) needs piece ratio 1.04 error: 0.04\n",
      "\n",
      "\n",
      "Now the lower side\n",
      "925 pieces in [25, 37] (grid ratio of 1.48) needs piece ratio 1.02 error: 0.02\n",
      "936 pieces in [26, 36] (grid ratio of 1.38) needs piece ratio 1.05 error: 0.04\n",
      "962 pieces in [26, 37] (grid ratio of 1.42) needs piece ratio 1.02 error: 0.02\n",
      "988 pieces in [26, 38] (grid ratio of 1.46) needs piece ratio 1.01 error: 0.01\n"
     ]
    }
   ],
   "source": [
    "jig_v0(33, 22.8, 1000)"
   ]
  },
  {
   "cell_type": "code",
   "execution_count": 34,
   "metadata": {},
   "outputs": [
    {
     "name": "stdout",
     "output_type": "stream",
     "text": [
      "74 by 48 is picture ratio 1.5416666666666667\n",
      "\n",
      "Looking for >=108 solutions\n",
      "108 pieces in [9, 12] (grid ratio of 1.33) needs piece ratio 1.16 error: 0.14\n",
      "\n",
      "\n",
      "Now the lower side\n",
      "Oops! nothing to say\n"
     ]
    }
   ],
   "source": [
    "jig_v0(74, 48, 108)"
   ]
  },
  {
   "cell_type": "code",
   "execution_count": 35,
   "metadata": {},
   "outputs": [
    {
     "name": "stdout",
     "output_type": "stream",
     "text": [
      "11 by 14 is picture ratio 1.2727272727272727\n",
      "\n",
      "Looking for >=500 solutions\n",
      "500 pieces in [20, 25] (grid ratio of 1.25) needs piece ratio 1.02 error: 0.02\n",
      "520 pieces in [20, 26] (grid ratio of 1.3) needs piece ratio 1.02 error: 0.02\n",
      "546 pieces in [21, 26] (grid ratio of 1.24) needs piece ratio 1.03 error: 0.03\n",
      "\n",
      "\n",
      "Now the lower side\n",
      "456 pieces in [19, 24] (grid ratio of 1.26) needs piece ratio 1.01 error: 0.01\n",
      "475 pieces in [19, 25] (grid ratio of 1.32) needs piece ratio 1.03 error: 0.03\n"
     ]
    }
   ],
   "source": [
    "jig_v0(11, 14, 500)"
   ]
  }
 ],
 "metadata": {
  "kernelspec": {
   "display_name": "Python 3",
   "language": "python",
   "name": "python3"
  },
  "language_info": {
   "codemirror_mode": {
    "name": "ipython",
    "version": 3
   },
   "file_extension": ".py",
   "mimetype": "text/x-python",
   "name": "python",
   "nbconvert_exporter": "python",
   "pygments_lexer": "ipython3",
   "version": "3.8.2"
  }
 },
 "nbformat": 4,
 "nbformat_minor": 4
}
